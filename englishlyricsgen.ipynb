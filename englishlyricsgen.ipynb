{
 "cells": [
  {
   "cell_type": "markdown",
   "metadata": {},
   "source": [
    "## Getting the data"
   ]
  },
  {
   "cell_type": "code",
   "execution_count": null,
   "metadata": {},
   "outputs": [],
   "source": [
    "import kagglehub\n",
    "import os\n",
    "import shutil\n",
    "# Download latest version\n",
    "path = kagglehub.dataset_download(\"carlosgdcj/genius-song-lyrics-with-language-information\")\n",
    "shutil.move(path, r'/kaggle/working/data')\n"
   ]
  },
  {
   "cell_type": "code",
   "execution_count": 2,
   "metadata": {
    "colab": {
     "base_uri": "https://localhost:8080/"
    },
    "execution": {
     "iopub.execute_input": "2025-05-17T07:25:31.173219Z",
     "iopub.status.busy": "2025-05-17T07:25:31.172685Z",
     "iopub.status.idle": "2025-05-17T07:25:36.289324Z",
     "shell.execute_reply": "2025-05-17T07:25:36.288660Z",
     "shell.execute_reply.started": "2025-05-17T07:25:31.173185Z"
    },
    "executionInfo": {
     "elapsed": 8364,
     "status": "ok",
     "timestamp": 1747352296704,
     "user": {
      "displayName": "Ahmed Abdel-fattah",
      "userId": "16941817294502685097"
     },
     "user_tz": -180
    },
    "id": "cKeZiH14T_Rr",
    "outputId": "8a8be06f-d344-49ff-aefc-49e1e872aece",
    "trusted": true
   },
   "outputs": [
    {
     "name": "stdout",
     "output_type": "stream",
     "text": [
      "Collecting fireducks\n",
      "  Downloading fireducks-1.2.8-cp311-cp311-manylinux_2_28_x86_64.whl.metadata (1.0 kB)\n",
      "Collecting firefw==1.2.8 (from fireducks)\n",
      "  Downloading firefw-1.2.8-py3-none-any.whl.metadata (818 bytes)\n",
      "Requirement already satisfied: pandas<2.3.0,>=1.5.3 in /usr/local/lib/python3.11/dist-packages (from fireducks) (2.2.3)\n",
      "Requirement already satisfied: pyarrow<19.1,>=19.0 in /usr/local/lib/python3.11/dist-packages (from fireducks) (19.0.1)\n",
      "Requirement already satisfied: numpy>=1.23.2 in /usr/local/lib/python3.11/dist-packages (from pandas<2.3.0,>=1.5.3->fireducks) (1.26.4)\n",
      "Requirement already satisfied: python-dateutil>=2.8.2 in /usr/local/lib/python3.11/dist-packages (from pandas<2.3.0,>=1.5.3->fireducks) (2.9.0.post0)\n",
      "Requirement already satisfied: pytz>=2020.1 in /usr/local/lib/python3.11/dist-packages (from pandas<2.3.0,>=1.5.3->fireducks) (2025.2)\n",
      "Requirement already satisfied: tzdata>=2022.7 in /usr/local/lib/python3.11/dist-packages (from pandas<2.3.0,>=1.5.3->fireducks) (2025.2)\n",
      "Requirement already satisfied: mkl_fft in /usr/local/lib/python3.11/dist-packages (from numpy>=1.23.2->pandas<2.3.0,>=1.5.3->fireducks) (1.3.8)\n",
      "Requirement already satisfied: mkl_random in /usr/local/lib/python3.11/dist-packages (from numpy>=1.23.2->pandas<2.3.0,>=1.5.3->fireducks) (1.2.4)\n",
      "Requirement already satisfied: mkl_umath in /usr/local/lib/python3.11/dist-packages (from numpy>=1.23.2->pandas<2.3.0,>=1.5.3->fireducks) (0.1.1)\n",
      "Requirement already satisfied: mkl in /usr/local/lib/python3.11/dist-packages (from numpy>=1.23.2->pandas<2.3.0,>=1.5.3->fireducks) (2025.1.0)\n",
      "Requirement already satisfied: tbb4py in /usr/local/lib/python3.11/dist-packages (from numpy>=1.23.2->pandas<2.3.0,>=1.5.3->fireducks) (2022.1.0)\n",
      "Requirement already satisfied: mkl-service in /usr/local/lib/python3.11/dist-packages (from numpy>=1.23.2->pandas<2.3.0,>=1.5.3->fireducks) (2.4.1)\n",
      "Requirement already satisfied: six>=1.5 in /usr/local/lib/python3.11/dist-packages (from python-dateutil>=2.8.2->pandas<2.3.0,>=1.5.3->fireducks) (1.17.0)\n",
      "Requirement already satisfied: intel-openmp<2026,>=2024 in /usr/local/lib/python3.11/dist-packages (from mkl->numpy>=1.23.2->pandas<2.3.0,>=1.5.3->fireducks) (2024.2.0)\n",
      "Requirement already satisfied: tbb==2022.* in /usr/local/lib/python3.11/dist-packages (from mkl->numpy>=1.23.2->pandas<2.3.0,>=1.5.3->fireducks) (2022.1.0)\n",
      "Requirement already satisfied: tcmlib==1.* in /usr/local/lib/python3.11/dist-packages (from tbb==2022.*->mkl->numpy>=1.23.2->pandas<2.3.0,>=1.5.3->fireducks) (1.3.0)\n",
      "Requirement already satisfied: intel-cmplr-lib-rt in /usr/local/lib/python3.11/dist-packages (from mkl_umath->numpy>=1.23.2->pandas<2.3.0,>=1.5.3->fireducks) (2024.2.0)\n",
      "Requirement already satisfied: intel-cmplr-lib-ur==2024.2.0 in /usr/local/lib/python3.11/dist-packages (from intel-openmp<2026,>=2024->mkl->numpy>=1.23.2->pandas<2.3.0,>=1.5.3->fireducks) (2024.2.0)\n",
      "Downloading fireducks-1.2.8-cp311-cp311-manylinux_2_28_x86_64.whl (7.4 MB)\n",
      "\u001b[2K   \u001b[90m━━━━━━━━━━━━━━━━━━━━━━━━━━━━━━━━━━━━━━━━\u001b[0m \u001b[32m7.4/7.4 MB\u001b[0m \u001b[31m36.4 MB/s\u001b[0m eta \u001b[36m0:00:00\u001b[0m00:01\u001b[0m00:01\u001b[0m\n",
      "\u001b[?25hDownloading firefw-1.2.8-py3-none-any.whl (12 kB)\n",
      "Installing collected packages: firefw, fireducks\n",
      "Successfully installed fireducks-1.2.8 firefw-1.2.8\n"
     ]
    }
   ],
   "source": [
    "!pip install fireducks"
   ]
  },
  {
   "cell_type": "markdown",
   "metadata": {},
   "source": [
    "## Imports"
   ]
  },
  {
   "cell_type": "code",
   "execution_count": 3,
   "metadata": {
    "colab": {
     "base_uri": "https://localhost:8080/"
    },
    "execution": {
     "iopub.execute_input": "2025-05-17T07:25:38.721484Z",
     "iopub.status.busy": "2025-05-17T07:25:38.720973Z",
     "iopub.status.idle": "2025-05-17T07:25:44.576295Z",
     "shell.execute_reply": "2025-05-17T07:25:44.575621Z",
     "shell.execute_reply.started": "2025-05-17T07:25:38.721453Z"
    },
    "executionInfo": {
     "elapsed": 3572,
     "status": "ok",
     "timestamp": 1747352341155,
     "user": {
      "displayName": "Ahmed Abdel-fattah",
      "userId": "16941817294502685097"
     },
     "user_tz": -180
    },
    "id": "6McDfUSRS5ub",
    "outputId": "2bff5db9-6c80-4b27-869e-e1fee0f50857",
    "trusted": true
   },
   "outputs": [
    {
     "name": "stderr",
     "output_type": "stream",
     "text": [
      "[nltk_data] Downloading package punkt_tab to /usr/share/nltk_data...\n",
      "[nltk_data]   Package punkt_tab is already up-to-date!\n"
     ]
    }
   ],
   "source": [
    "import fireducks.pandas as pd\n",
    "import matplotlib.pyplot as plt\n",
    "\n",
    "\n",
    "from torch.utils.data import Dataset, DataLoader\n",
    "import torch.nn.functional as F\n",
    "import torch.nn as nn\n",
    "import torch\n",
    "from torch.optim.lr_scheduler import ReduceLROnPlateau\n",
    "\n",
    "import nltk\n",
    "from nltk.tokenize import word_tokenize\n",
    "nltk.download('punkt_tab')\n",
    "from tqdm import tqdm\n",
    "\n",
    "\n",
    "from collections import defaultdict\n",
    "from collections import Counter\n",
    "import linecache\n",
    "import random\n",
    "import json\n",
    "import time\n",
    "import os\n"
   ]
  },
  {
   "cell_type": "markdown",
   "metadata": {},
   "source": [
    "## Setting the regular expression"
   ]
  },
  {
   "cell_type": "code",
   "execution_count": 4,
   "metadata": {
    "execution": {
     "iopub.execute_input": "2025-05-17T07:25:48.284418Z",
     "iopub.status.busy": "2025-05-17T07:25:48.284055Z",
     "iopub.status.idle": "2025-05-17T07:25:48.289919Z",
     "shell.execute_reply": "2025-05-17T07:25:48.289255Z",
     "shell.execute_reply.started": "2025-05-17T07:25:48.284398Z"
    },
    "executionInfo": {
     "elapsed": 29,
     "status": "ok",
     "timestamp": 1747335403163,
     "user": {
      "displayName": "Ahmed Abdel-fattah",
      "userId": "16941817294502685097"
     },
     "user_tz": -180
    },
    "id": "18Nk5dGt-2JH",
    "trusted": true
   },
   "outputs": [],
   "source": [
    "import re\n",
    "\n",
    "# Compile regex patterns once (faster)\n",
    "RE_BRACKETS = re.compile(r'\\[.*?\\]')\n",
    "RE_NEWLINE = re.compile(r'\\n')\n",
    "RE_MULTISPACE = re.compile(r'\\s+')\n",
    "RE_SPECIAL = re.compile(r'[^a-z0-9\\s_]')\n",
    "RE_EDGE_NEWLINE = re.compile(r'^[\\s_newline_\\s]*|[_newline_]*$')\n",
    "\n",
    "def preprocess_text(text):\n",
    "    text = text.strip().lower()\n",
    "    text = RE_BRACKETS.sub('', text) # To remove the section titles like [Intro], [Chorus],  ...\n",
    "    text = RE_NEWLINE.sub(' _newline_ ', text) # To make every song a one line\n",
    "    text = RE_MULTISPACE.sub(' ', text)\n",
    "    text = RE_SPECIAL.sub('', text) # To remove any special characters\n",
    "    text = RE_EDGE_NEWLINE.sub('', text) # Remove _newline_ at the start or end\n",
    "    return text"
   ]
  },
  {
   "cell_type": "code",
   "execution_count": 11,
   "metadata": {
    "execution": {
     "iopub.execute_input": "2025-05-17T07:28:02.429024Z",
     "iopub.status.busy": "2025-05-17T07:28:02.428237Z",
     "iopub.status.idle": "2025-05-17T07:28:02.432164Z",
     "shell.execute_reply": "2025-05-17T07:28:02.431512Z",
     "shell.execute_reply.started": "2025-05-17T07:28:02.428998Z"
    },
    "executionInfo": {
     "elapsed": 4,
     "status": "ok",
     "timestamp": 1747352591149,
     "user": {
      "displayName": "Ahmed Abdel-fattah",
      "userId": "16941817294502685097"
     },
     "user_tz": -180
    },
    "id": "g2hHygxcpqxy",
    "trusted": true
   },
   "outputs": [],
   "source": [
    "# file_path = \"english_lyrics.txt\"\n",
    "file_path = \"/kaggle/working/english_lyrics.txt\""
   ]
  },
  {
   "cell_type": "code",
   "execution_count": 54,
   "metadata": {
    "colab": {
     "base_uri": "https://localhost:8080/"
    },
    "execution": {
     "iopub.execute_input": "2025-05-17T08:07:18.874423Z",
     "iopub.status.busy": "2025-05-17T08:07:18.874151Z",
     "iopub.status.idle": "2025-05-17T08:14:19.834798Z",
     "shell.execute_reply": "2025-05-17T08:14:19.833933Z",
     "shell.execute_reply.started": "2025-05-17T08:07:18.874403Z"
    },
    "executionInfo": {
     "elapsed": 2171290,
     "status": "ok",
     "timestamp": 1747304915015,
     "user": {
      "displayName": "Ahmed Abdel-fattah",
      "userId": "16941817294502685097"
     },
     "user_tz": -180
    },
    "id": "ONRFeX9HNAPY",
    "outputId": "19db6842-9046-4fe6-a8f4-860dbe8687da",
    "trusted": true
   },
   "outputs": [
    {
     "name": "stderr",
     "output_type": "stream",
     "text": [
      "257it [07:00,  1.64s/it]\n"
     ]
    }
   ],
   "source": [
    "with open(file_path, \"w\", encoding=\"utf-8\") as f:\n",
    "    for chunk in tqdm(pd.read_csv(\"/kaggle/input/genius-song-lyrics-with-language-information/song_lyrics.csv\", usecols=['lyrics', 'language_ft', 'tag'],\n",
    "                                   dtype={'lyrics': str, 'language_ft': str, 'tag':str}, chunksize=20000,\n",
    "                                   )):\n",
    "\n",
    "        filtered = chunk[(chunk['language_ft'] == 'en') & (chunk['tag'] == 'pop')]\n",
    "        lyrics = filtered['lyrics'].tolist()\n",
    "\n",
    "        # Batch preprocessing and writing\n",
    "        processed = [preprocess_text(lyric) for lyric in lyrics]\n",
    "        f.write('\\n'.join(processed) + '\\n')\n"
   ]
  },
  {
   "cell_type": "code",
   "execution_count": null,
   "metadata": {
    "id": "wi_pPFywgI52",
    "trusted": true
   },
   "outputs": [],
   "source": [
    "!cp english_lyrics.txt drive/MyDrive/"
   ]
  },
  {
   "cell_type": "markdown",
   "metadata": {},
   "source": [
    "Getting the data already exported to drive"
   ]
  },
  {
   "cell_type": "code",
   "execution_count": 2,
   "metadata": {
    "execution": {
     "iopub.execute_input": "2025-05-17T06:20:37.686183Z",
     "iopub.status.busy": "2025-05-17T06:20:37.685510Z",
     "iopub.status.idle": "2025-05-17T06:20:41.322297Z",
     "shell.execute_reply": "2025-05-17T06:20:41.321383Z",
     "shell.execute_reply.started": "2025-05-17T06:20:37.686157Z"
    },
    "trusted": true
   },
   "outputs": [
    {
     "name": "stdout",
     "output_type": "stream",
     "text": [
      "Requirement already satisfied: gdown in /usr/local/lib/python3.11/dist-packages (5.2.0)\n",
      "Requirement already satisfied: beautifulsoup4 in /usr/local/lib/python3.11/dist-packages (from gdown) (4.13.3)\n",
      "Requirement already satisfied: filelock in /usr/local/lib/python3.11/dist-packages (from gdown) (3.18.0)\n",
      "Requirement already satisfied: requests[socks] in /usr/local/lib/python3.11/dist-packages (from gdown) (2.32.3)\n",
      "Requirement already satisfied: tqdm in /usr/local/lib/python3.11/dist-packages (from gdown) (4.67.1)\n",
      "Requirement already satisfied: soupsieve>1.2 in /usr/local/lib/python3.11/dist-packages (from beautifulsoup4->gdown) (2.6)\n",
      "Requirement already satisfied: typing-extensions>=4.0.0 in /usr/local/lib/python3.11/dist-packages (from beautifulsoup4->gdown) (4.13.2)\n",
      "Requirement already satisfied: charset-normalizer<4,>=2 in /usr/local/lib/python3.11/dist-packages (from requests[socks]->gdown) (3.4.2)\n",
      "Requirement already satisfied: idna<4,>=2.5 in /usr/local/lib/python3.11/dist-packages (from requests[socks]->gdown) (3.10)\n",
      "Requirement already satisfied: urllib3<3,>=1.21.1 in /usr/local/lib/python3.11/dist-packages (from requests[socks]->gdown) (2.4.0)\n",
      "Requirement already satisfied: certifi>=2017.4.17 in /usr/local/lib/python3.11/dist-packages (from requests[socks]->gdown) (2025.4.26)\n",
      "Requirement already satisfied: PySocks!=1.5.7,>=1.5.6 in /usr/local/lib/python3.11/dist-packages (from requests[socks]->gdown) (1.7.1)\n"
     ]
    }
   ],
   "source": [
    "!pip install gdown"
   ]
  },
  {
   "cell_type": "code",
   "execution_count": 12,
   "metadata": {
    "execution": {
     "iopub.execute_input": "2025-05-17T06:36:00.153552Z",
     "iopub.status.busy": "2025-05-17T06:36:00.153281Z",
     "iopub.status.idle": "2025-05-17T06:36:02.664848Z",
     "shell.execute_reply": "2025-05-17T06:36:02.664183Z",
     "shell.execute_reply.started": "2025-05-17T06:36:00.153536Z"
    },
    "trusted": true
   },
   "outputs": [
    {
     "name": "stdout",
     "output_type": "stream",
     "text": [
      "/usr/local/lib/python3.11/dist-packages/gdown/__main__.py:140: FutureWarning: Option `--id` was deprecated in version 4.3.1 and will be removed in 5.0. You don't need to pass it anymore to use a file ID.\n",
      "  warnings.warn(\n",
      "Failed to retrieve file url:\n",
      "\n",
      "\tToo many users have viewed or downloaded this file recently. Please\n",
      "\ttry accessing the file again later. If the file you are trying to\n",
      "\taccess is particularly large or is shared with many people, it may\n",
      "\ttake up to 24 hours to be able to view or download the file. If you\n",
      "\tstill can't access a file after 24 hours, contact your domain\n",
      "\tadministrator.\n",
      "\n",
      "You may still be able to access the file from the browser:\n",
      "\n",
      "\thttps://drive.google.com/uc?id=1979eazPZGrI_8Zm8PMe6O8ry4y13kVX9\n",
      "\n",
      "but Gdown can't. Please check connections and permissions.\n"
     ]
    }
   ],
   "source": [
    "!gdown --id 1979eazPZGrI_8Zm8PMe6O8ry4y13kVX9"
   ]
  },
  {
   "cell_type": "code",
   "execution_count": null,
   "metadata": {
    "executionInfo": {
     "elapsed": 75863,
     "status": "ok",
     "timestamp": 1747346021020,
     "user": {
      "displayName": "Ahmed Abdel-fattah",
      "userId": "16941817294502685097"
     },
     "user_tz": -180
    },
    "id": "2DNgFKicEhpq",
    "trusted": true
   },
   "outputs": [],
   "source": [
    "!cp drive/MyDrive/english_lyrics.txt english_lyrics.txt"
   ]
  },
  {
   "cell_type": "markdown",
   "metadata": {
    "execution": {
     "iopub.execute_input": "2025-05-16T12:37:28.235942Z",
     "iopub.status.busy": "2025-05-16T12:37:28.235203Z",
     "iopub.status.idle": "2025-05-16T12:37:28.239509Z",
     "shell.execute_reply": "2025-05-16T12:37:28.238608Z",
     "shell.execute_reply.started": "2025-05-16T12:37:28.235897Z"
    }
   },
   "source": [
    "### Building the vocab"
   ]
  },
  {
   "cell_type": "code",
   "execution_count": 60,
   "metadata": {
    "colab": {
     "base_uri": "https://localhost:8080/"
    },
    "execution": {
     "iopub.execute_input": "2025-05-17T08:18:09.091966Z",
     "iopub.status.busy": "2025-05-17T08:18:09.091698Z",
     "iopub.status.idle": "2025-05-17T08:18:13.850871Z",
     "shell.execute_reply": "2025-05-17T08:18:13.850281Z",
     "shell.execute_reply.started": "2025-05-17T08:18:09.091947Z"
    },
    "executionInfo": {
     "elapsed": 113666,
     "status": "ok",
     "timestamp": 1747346134675,
     "user": {
      "displayName": "Ahmed Abdel-fattah",
      "userId": "16941817294502685097"
     },
     "user_tz": -180
    },
    "id": "hNol7OYcWLeD",
    "outputId": "8530b908-8cd0-4e2f-edb3-6befc69a2d40",
    "trusted": true
   },
   "outputs": [
    {
     "name": "stderr",
     "output_type": "stream",
     "text": [
      "Tokenizing and Counting: 4999it [00:04, 1053.73it/s]\n"
     ]
    }
   ],
   "source": [
    "def tokenize_and_build_vocab(file_path, min_freq=2, n_songs = 50000):\n",
    "    n_lines_processed = 0\n",
    "    vocab_counter = Counter()\n",
    "\n",
    "    with open(file_path, \"r\", encoding=\"utf-8\") as f:\n",
    "        for line in tqdm(f, desc=\"Tokenizing and Counting\"):\n",
    "            tokens = word_tokenize(line.strip())\n",
    "            vocab_counter.update(tokens)\n",
    "            n_lines_processed += 1\n",
    "            if n_lines_processed >= n_songs:\n",
    "                break\n",
    "\n",
    "    # Apply frequency threshold\n",
    "    vocab = {'<PAD>': 0, '<UNK>': 1, '<SOS>': 2, '<EOS>': 3}\n",
    "\n",
    "    nex_index = len(vocab)\n",
    "    for word, freq in vocab_counter.items():\n",
    "        if freq >= min_freq and word not in vocab:\n",
    "            vocab[word] = nex_index\n",
    "            nex_index += 1\n",
    "\n",
    "    return vocab\n",
    "\n",
    "vocab50k = tokenize_and_build_vocab(file_path, 3, 5000)"
   ]
  },
  {
   "cell_type": "code",
   "execution_count": 62,
   "metadata": {
    "colab": {
     "base_uri": "https://localhost:8080/"
    },
    "execution": {
     "iopub.execute_input": "2025-05-17T08:27:03.318217Z",
     "iopub.status.busy": "2025-05-17T08:27:03.317519Z",
     "iopub.status.idle": "2025-05-17T08:27:03.322224Z",
     "shell.execute_reply": "2025-05-17T08:27:03.321417Z",
     "shell.execute_reply.started": "2025-05-17T08:27:03.318195Z"
    },
    "executionInfo": {
     "elapsed": 10,
     "status": "ok",
     "timestamp": 1747346134688,
     "user": {
      "displayName": "Ahmed Abdel-fattah",
      "userId": "16941817294502685097"
     },
     "user_tz": -180
    },
    "id": "L3HD87wRh3pD",
    "outputId": "4bf1b770-917f-4297-d424-4b3bf7fdf4e4",
    "trusted": true
   },
   "outputs": [
    {
     "name": "stdout",
     "output_type": "stream",
     "text": [
      "Vocab size: 11358\n"
     ]
    }
   ],
   "source": [
    "print(f\"Vocab size: {len(vocab50k)}\")"
   ]
  },
  {
   "cell_type": "markdown",
   "metadata": {},
   "source": [
    "Saving the vocab to file "
   ]
  },
  {
   "cell_type": "code",
   "execution_count": null,
   "metadata": {
    "executionInfo": {
     "elapsed": 101,
     "status": "ok",
     "timestamp": 1747346134807,
     "user": {
      "displayName": "Ahmed Abdel-fattah",
      "userId": "16941817294502685097"
     },
     "user_tz": -180
    },
    "id": "vm35fSLKjJ74",
    "trusted": true
   },
   "outputs": [],
   "source": [
    "\n",
    "with open(\"vocab50k.json\", \"w\", encoding=\"utf-8\") as f:\n",
    "    json.dump(vocab50k, f, ensure_ascii=False, indent=2)"
   ]
  },
  {
   "cell_type": "code",
   "execution_count": null,
   "metadata": {
    "executionInfo": {
     "elapsed": 36,
     "status": "ok",
     "timestamp": 1747352629772,
     "user": {
      "displayName": "Ahmed Abdel-fattah",
      "userId": "16941817294502685097"
     },
     "user_tz": -180
    },
    "id": "5Wc6NT6M5DPB",
    "trusted": true
   },
   "outputs": [],
   "source": [
    "\n",
    "\n",
    "with open(\"vocab50k.json\", \"r\", encoding=\"utf-8\") as f:\n",
    "    vocab50k = json.load(f)"
   ]
  },
  {
   "cell_type": "markdown",
   "metadata": {
    "id": "BYLX2esHeTV6"
   },
   "source": [
    "## Building The Dataset"
   ]
  },
  {
   "cell_type": "code",
   "execution_count": 78,
   "metadata": {
    "execution": {
     "iopub.execute_input": "2025-05-17T08:45:27.455311Z",
     "iopub.status.busy": "2025-05-17T08:45:27.455043Z",
     "iopub.status.idle": "2025-05-17T08:45:27.560791Z",
     "shell.execute_reply": "2025-05-17T08:45:27.560092Z",
     "shell.execute_reply.started": "2025-05-17T08:45:27.455291Z"
    },
    "executionInfo": {
     "elapsed": 5263,
     "status": "ok",
     "timestamp": 1747351887010,
     "user": {
      "displayName": "Ahmed Abdel-fattah",
      "userId": "16941817294502685097"
     },
     "user_tz": -180
    },
    "id": "caSjiL1xeWQu",
    "trusted": true
   },
   "outputs": [],
   "source": [
    "class LyricsDataset(Dataset):\n",
    "    def __init__(self, file_path, vocab, max_input_len=32, max_output_len=64,\n",
    "                 start_line=0, end_line=50000, training_strategy=\"sliding_window\",\n",
    "                 sliding_window_size=3, context_length=3):\n",
    "\n",
    "        self.file_path = file_path\n",
    "        self.vocab = vocab\n",
    "        self.max_input_len = max_input_len\n",
    "        self.max_output_len = max_output_len\n",
    "        self.start_line = start_line\n",
    "        self.end_line = min(end_line, self._get_file_line_count())\n",
    "        self.training_strategy = training_strategy\n",
    "        self.sliding_window_size = sliding_window_size\n",
    "        self.context_length = context_length\n",
    "\n",
    "        # Calculate line offsets for efficient access\n",
    "        self._calculate_line_offsets()\n",
    "\n",
    "        # Special tokens\n",
    "        self.PAD_IDX = vocab.get('<PAD>', 0)\n",
    "        self.SOS_IDX = vocab.get('<SOS>', 1)\n",
    "        self.EOS_IDX = vocab.get('<EOS>', 2)\n",
    "        self.UNK_IDX = vocab.get('<UNK>', 3)\n",
    "        \n",
    "        # Track song indices and positions for efficient sampling\n",
    "        self._build_song_index()\n",
    "\n",
    "    def _get_file_line_count(self):\n",
    "        \"\"\"Get the total number of lines in the file or return a large number if too big\"\"\"\n",
    "        try:\n",
    "            with open(self.file_path, 'r', encoding='utf-8') as f:\n",
    "                for i, _ in enumerate(f):\n",
    "                    pass\n",
    "            return i + 1\n",
    "        except:\n",
    "            # If file is too large, use a conservative estimate\n",
    "            return float('inf')\n",
    "\n",
    "    def _calculate_line_offsets(self):\n",
    "        \"\"\"Store line offsets for the specified range for efficient random access\"\"\"\n",
    "        self.line_offsets = {}\n",
    "\n",
    "        # We only need to calculate offsets for the range we'll use\n",
    "        with open(self.file_path, 'r', encoding='utf-8') as f:\n",
    "            offset = 0\n",
    "            for line_idx, line in enumerate(f):\n",
    "                if line_idx >= self.start_line and line_idx < self.end_line:\n",
    "                    self.line_offsets[line_idx] = offset\n",
    "                offset += len(line.encode('utf-8'))  # Account for multi-byte characters\n",
    "\n",
    "                # Early termination if we've processed enough lines\n",
    "                if line_idx >= self.end_line:\n",
    "                    break\n",
    "    \n",
    "    def _build_song_index(self):\n",
    "        \"\"\"Build an index of songs and their line positions for more efficient sampling\"\"\"\n",
    "        self.song_examples = []\n",
    "        processed_songs = 0\n",
    "        valid_songs = 0\n",
    "        \n",
    "        for idx in range(self.end_line - self.start_line):\n",
    "            real_idx = self.start_line + idx\n",
    "            song_lines = self._get_song_lines(idx)\n",
    "            processed_songs += 1\n",
    "            \n",
    "            # Skip songs that are too short\n",
    "            if len(song_lines) < 2:\n",
    "                continue\n",
    "\n",
    "            valid_songs +=1\n",
    "            # Create training examples based on strategy\n",
    "            if self.training_strategy == \"sliding_window\":\n",
    "                # Create sliding window examples\n",
    "                for i in range(len(song_lines) - 1):\n",
    "                    # Create sliding windows of specified size\n",
    "                    end_idx = min(i + self.sliding_window_size, len(song_lines))\n",
    "                    if end_idx - i < 2:  # Need at least 2 lines\n",
    "                        continue\n",
    "                        \n",
    "                    # Store the example\n",
    "                    self.song_examples.append({\n",
    "                        'song_idx': idx,\n",
    "                        'start_line': i,\n",
    "                        'end_line': end_idx\n",
    "                    })\n",
    "            \n",
    "            elif self.training_strategy == \"full_context\":\n",
    "                # For each line (except first), use previous context_length lines as input\n",
    "                for i in range(1, len(song_lines)):\n",
    "                    start_idx = max(0, i - self.context_length)\n",
    "                    # Store the example\n",
    "                    self.song_examples.append({\n",
    "                        'song_idx': idx,\n",
    "                        'context_start': start_idx,\n",
    "                        'context_end': i,\n",
    "                        'target_line': i\n",
    "                    })\n",
    "            \n",
    "            elif self.training_strategy == \"verse_chorus\":\n",
    "                # Simple heuristic: try to identify repeating sections\n",
    "                # More sophisticated verse/chorus identification could be implemented\n",
    "                self._add_verse_chorus_examples(idx, song_lines)\n",
    "\n",
    "        \n",
    "\n",
    "    def _add_verse_chorus_examples(self, song_idx, song_lines):\n",
    "        \"\"\"Add training examples based on verse/chorus structure\"\"\"\n",
    "        # Simple approach: look for repeated lines that might indicate chorus\n",
    "        seen_lines = {}\n",
    "        potential_choruses = []\n",
    "        \n",
    "        # Identify potential choruses (repeated lines)\n",
    "        for i, line in enumerate(song_lines):\n",
    "            # Normalize the line for comparison\n",
    "            norm_line = line.lower().strip()\n",
    "            if len(norm_line) < 5:  # Skip very short lines\n",
    "                continue\n",
    "                \n",
    "            if norm_line in seen_lines:\n",
    "                potential_choruses.append((seen_lines[norm_line], i))\n",
    "            else:\n",
    "                seen_lines[norm_line] = i\n",
    "        \n",
    "        # Create examples from verse to chorus transitions\n",
    "        for verse_idx, chorus_idx in potential_choruses:\n",
    "            # Use a few lines before chorus as context\n",
    "            context_start = max(0, verse_idx - 2)\n",
    "            \n",
    "            # Add an example leading up to the chorus\n",
    "            self.song_examples.append({\n",
    "                'song_idx': song_idx,\n",
    "                'context_start': context_start,\n",
    "                'context_end': verse_idx + 1,\n",
    "                'target_start': chorus_idx,\n",
    "                'target_end': min(chorus_idx + 2, len(song_lines))\n",
    "            })\n",
    "            \n",
    "        # If no chorus structure found, fall back to sliding window\n",
    "        if not potential_choruses:\n",
    "            for i in range(len(song_lines) - 1):\n",
    "                end_idx = min(i + self.sliding_window_size, len(song_lines))\n",
    "                if end_idx - i < 2:\n",
    "                    continue\n",
    "                    \n",
    "                self.song_examples.append({\n",
    "                    'song_idx': song_idx,\n",
    "                    'start_line': i,\n",
    "                    'end_line': end_idx\n",
    "                })\n",
    "\n",
    "    def _get_song_lines(self, idx):\n",
    "        \"\"\"Get all lines from a song by splitting on _newline_\"\"\"\n",
    "        real_idx = self.start_line + idx\n",
    "        with open(self.file_path, 'r', encoding='utf-8') as f:\n",
    "            f.seek(self.line_offsets[real_idx])\n",
    "            song_text = f.readline().strip()\n",
    "\n",
    "        # Split the song into individual lines\n",
    "        lines = song_text.split('_newline_')\n",
    "        return [line.strip() for line in lines if line.strip()]\n",
    "\n",
    "    def _tokenize(self, text):\n",
    "        \"\"\"Tokenize text into tokens and convert to indices\"\"\"\n",
    "        # This assumes you have a word_tokenize function imported\n",
    "        tokens = text.strip().split()  # Simple space tokenization, replace with better tokenization\n",
    "        return [self.vocab.get(token, self.UNK_IDX) for token in tokens]\n",
    "\n",
    "    def __len__(self):\n",
    "        \"\"\"Return the number of examples, not the number of songs\"\"\"\n",
    "        return len(self.song_examples)\n",
    "\n",
    "    def __getitem__(self, idx):\n",
    "        \"\"\"Get a training example\"\"\"\n",
    "        example = self.song_examples[idx]\n",
    "        song_idx = example['song_idx']\n",
    "        song_lines = self._get_song_lines(song_idx)\n",
    "        \n",
    "        if self.training_strategy == \"sliding_window\":\n",
    "            # Get the specified window of lines\n",
    "            start_line = example['start_line']\n",
    "            end_line = example['end_line']\n",
    "            \n",
    "            # Use first n-1 lines as input, last line as target\n",
    "            input_text = \" \".join(song_lines[start_line:end_line-1])\n",
    "            target_text = song_lines[end_line-1]\n",
    "            \n",
    "        elif self.training_strategy == \"full_context\":\n",
    "            # Use context lines as input, target line as output\n",
    "            context_start = example['context_start']\n",
    "            context_end = example['context_end']\n",
    "            target_line = example['target_line']\n",
    "            \n",
    "            input_text = \" \".join(song_lines[context_start:context_end])\n",
    "            target_text = song_lines[target_line]\n",
    "            \n",
    "        elif self.training_strategy == \"verse_chorus\":\n",
    "            # Use context as input, target section as output\n",
    "            context_start = example['context_start']\n",
    "            context_end = example['context_end']\n",
    "            target_start = example['target_start']\n",
    "            target_end = example['target_end']\n",
    "            \n",
    "            input_text = \" \".join(song_lines[context_start:context_end])\n",
    "            target_text = \" \".join(song_lines[target_start:target_end])\n",
    "        \n",
    "        # Tokenize and prepare tensors\n",
    "        input_tokens = self._tokenize(input_text)\n",
    "        output_tokens = [self.SOS_IDX] + self._tokenize(target_text) + [self.EOS_IDX]\n",
    "\n",
    "        # Truncate or pad sequences\n",
    "        if len(input_tokens) > self.max_input_len:\n",
    "            input_tokens = input_tokens[:self.max_input_len]\n",
    "        else:\n",
    "            # Pad with PAD_IDX\n",
    "            input_tokens = input_tokens + [self.PAD_IDX] * (self.max_input_len - len(input_tokens))\n",
    "\n",
    "        if len(output_tokens) > self.max_output_len:\n",
    "            output_tokens = output_tokens[:self.max_output_len-1] + [self.EOS_IDX]\n",
    "        else:\n",
    "            # Pad with PAD_IDX\n",
    "            output_tokens = output_tokens + [self.PAD_IDX] * (self.max_output_len - len(output_tokens))\n",
    "\n",
    "        return {\n",
    "            'input_ids': torch.tensor(input_tokens, dtype=torch.long),\n",
    "            'target_ids': torch.tensor(output_tokens, dtype=torch.long),\n",
    "            'input_text': input_text,\n",
    "            'target_text': target_text\n",
    "        }\n"
   ]
  },
  {
   "cell_type": "code",
   "execution_count": 124,
   "metadata": {
    "execution": {
     "iopub.execute_input": "2025-05-17T11:22:06.484552Z",
     "iopub.status.busy": "2025-05-17T11:22:06.483969Z",
     "iopub.status.idle": "2025-05-17T11:22:06.489040Z",
     "shell.execute_reply": "2025-05-17T11:22:06.488262Z",
     "shell.execute_reply.started": "2025-05-17T11:22:06.484531Z"
    },
    "executionInfo": {
     "elapsed": 19,
     "status": "ok",
     "timestamp": 1747351887064,
     "user": {
      "displayName": "Ahmed Abdel-fattah",
      "userId": "16941817294502685097"
     },
     "user_tz": -180
    },
    "id": "ioJjUGYsnu7R",
    "trusted": true
   },
   "outputs": [],
   "source": [
    "def get_dataloader(file_path, vocab, batch_size=32, num_workers=2,\n",
    "                   max_input_len = 32, max_output_len=64, training_strategy=\"sliding_window\",\n",
    "                   start_line=0, end_line=50000, sliding_window_size=3, context_length=3):\n",
    "    \n",
    "    dataset = LyricsDataset(file_path, vocab, max_input_len, max_output_len,\n",
    "                            start_line, end_line, training_strategy,\n",
    "                            sliding_window_size, context_length)\n",
    "\n",
    "    return DataLoader(dataset, batch_size=batch_size, shuffle=True,\n",
    "                      num_workers=num_workers, pin_memory=True)"
   ]
  },
  {
   "cell_type": "markdown",
   "metadata": {
    "id": "rTiABCCS1LBc"
   },
   "source": [
    "## Building the model"
   ]
  },
  {
   "cell_type": "code",
   "execution_count": 69,
   "metadata": {
    "execution": {
     "iopub.execute_input": "2025-05-17T08:35:07.695484Z",
     "iopub.status.busy": "2025-05-17T08:35:07.695036Z",
     "iopub.status.idle": "2025-05-17T08:35:07.702301Z",
     "shell.execute_reply": "2025-05-17T08:35:07.701651Z",
     "shell.execute_reply.started": "2025-05-17T08:35:07.695459Z"
    },
    "executionInfo": {
     "elapsed": 15,
     "status": "ok",
     "timestamp": 1747351887978,
     "user": {
      "displayName": "Ahmed Abdel-fattah",
      "userId": "16941817294502685097"
     },
     "user_tz": -180
    },
    "id": "M0jotneC6_9i",
    "trusted": true
   },
   "outputs": [],
   "source": [
    "class Encoder(nn.Module):\n",
    "    def __init__(self, input_dim, embedding_dim, hidden_dim, n_layers=1, dropout=0.0):\n",
    "        super().__init__()\n",
    "        self.n_layers = n_layers\n",
    "\n",
    "        self.embedding = nn.Embedding(input_dim, embedding_dim)\n",
    "        self.lstm = nn.LSTM(embedding_dim, hidden_dim, n_layers,\n",
    "                            dropout=dropout if n_layers>1 else 0,\n",
    "                            batch_first=True, bidirectional = True)\n",
    "\n",
    "        self.fc = nn.Linear(hidden_dim*2, hidden_dim)\n",
    "\n",
    "        self.dropout = nn.Dropout(dropout) if dropout else None\n",
    "\n",
    "    def forward(self, src):\n",
    "        if self.dropout:\n",
    "            embedded = self.dropout(self.embedding(src))\n",
    "        else:\n",
    "            embedded = self.embedding(src)\n",
    "\n",
    "        outputs, (hidden, cell) = self.lstm(embedded)\n",
    "\n",
    "        hidden_forward = hidden[0:self.n_layers, :,:]\n",
    "        hidden_backward = hidden[self.n_layers:, :,:]\n",
    "        combined_hidden = torch.cat((hidden_forward, hidden_backward), dim=2)\n",
    "        transformed_hidden = torch.tanh(self.fc(combined_hidden))\n",
    "\n",
    "        cell_forward = cell[0:self.n_layers, :, :]\n",
    "        cell_backward = cell[self.n_layers:, :, :]\n",
    "        combined_cell = torch.cat((cell_forward, cell_backward), dim=2)\n",
    "        transformed_cell = torch.tanh(self.fc(combined_cell))\n",
    "\n",
    "\n",
    "        return outputs, (transformed_hidden, transformed_cell)\n",
    "\n"
   ]
  },
  {
   "cell_type": "code",
   "execution_count": 70,
   "metadata": {
    "execution": {
     "iopub.execute_input": "2025-05-17T08:35:09.592751Z",
     "iopub.status.busy": "2025-05-17T08:35:09.592481Z",
     "iopub.status.idle": "2025-05-17T08:35:09.598464Z",
     "shell.execute_reply": "2025-05-17T08:35:09.597752Z",
     "shell.execute_reply.started": "2025-05-17T08:35:09.592733Z"
    },
    "executionInfo": {
     "elapsed": 6,
     "status": "ok",
     "timestamp": 1747351891991,
     "user": {
      "displayName": "Ahmed Abdel-fattah",
      "userId": "16941817294502685097"
     },
     "user_tz": -180
    },
    "id": "uv0ZlY4c1p_5",
    "trusted": true
   },
   "outputs": [],
   "source": [
    "class Attention(nn.Module):\n",
    "    def __init__(self, enc_hidden_dim, dec_hidden_dim):\n",
    "        super().__init__()\n",
    "        self.attn = nn.Linear((enc_hidden_dim * 2) + dec_hidden_dim, dec_hidden_dim)\n",
    "        self.v = nn.Linear(dec_hidden_dim, 1, bias=False)\n",
    "\n",
    "    def forward(self, hidden, encoder_outputs, mask=None):\n",
    "        batch_size = encoder_outputs.shape[0]\n",
    "        src_len = encoder_outputs.shape[1]\n",
    "\n",
    "        hidden = hidden.unsqueeze(1).repeat(1, src_len, 1)\n",
    "        energy = torch.tanh(self.attn(torch.cat((hidden, encoder_outputs), dim=2)))\n",
    "        attention = self.v(energy).squeeze(2)\n",
    "\n",
    "        if mask is not None:\n",
    "            attention = attention.masked_fill(mask==0, -1e10)\n",
    "\n",
    "        return F.softmax(attention, dim=1)"
   ]
  },
  {
   "cell_type": "code",
   "execution_count": 71,
   "metadata": {
    "execution": {
     "iopub.execute_input": "2025-05-17T08:35:09.943326Z",
     "iopub.status.busy": "2025-05-17T08:35:09.942945Z",
     "iopub.status.idle": "2025-05-17T08:35:09.949893Z",
     "shell.execute_reply": "2025-05-17T08:35:09.949134Z",
     "shell.execute_reply.started": "2025-05-17T08:35:09.943310Z"
    },
    "executionInfo": {
     "elapsed": 15,
     "status": "ok",
     "timestamp": 1747351894045,
     "user": {
      "displayName": "Ahmed Abdel-fattah",
      "userId": "16941817294502685097"
     },
     "user_tz": -180
    },
    "id": "jiKLjVc1DkQm",
    "trusted": true
   },
   "outputs": [],
   "source": [
    "class Decoder(nn.Module):\n",
    "    def __init__(self, output_dim, emb_dim, hidden_dim, enc_hidden_dim, n_layers=1, dropout=0.5):\n",
    "        super().__init__()\n",
    "        self.output_dim = output_dim\n",
    "        self.hidden_dim = hidden_dim\n",
    "        self.n_layers = n_layers\n",
    "\n",
    "        self.embedding = nn.Embedding(output_dim, emb_dim)\n",
    "        self.attention = Attention(enc_hidden_dim, hidden_dim)\n",
    "\n",
    "        self.lstm = nn.LSTM(emb_dim + (enc_hidden_dim * 2), hidden_dim, n_layers,\n",
    "                            dropout=dropout if n_layers > 1 else 0,\n",
    "                            batch_first=True)\n",
    "\n",
    "        self.fc_out = nn.Linear((enc_hidden_dim *2) + hidden_dim + emb_dim, output_dim)\n",
    "\n",
    "        self.dropout = nn.Dropout(dropout) if dropout else None\n",
    "\n",
    "    def forward(self, input, hidden, cell, encoder_outputs, mask=None):\n",
    "        embedded = self.dropout(self.embedding(input)) if self.dropout else self.embedding(input)\n",
    "\n",
    "        attention_w = self.attention(hidden[-1], encoder_outputs, mask).unsqueeze(1)\n",
    "        context=torch.bmm(attention_w, encoder_outputs)\n",
    "\n",
    "        lstm_input = torch.cat((embedded, context), dim=2)\n",
    "        output, (hidden, cell) = self.lstm(lstm_input, (hidden, cell))\n",
    "\n",
    "        embedded = embedded.squeeze(1)\n",
    "        output = output.squeeze(1)\n",
    "        context = context.squeeze(1)\n",
    "        prediction = self.fc_out(torch.cat((output, context, embedded), dim=1))\n",
    "\n",
    "        return prediction, hidden, cell, attention_w.squeeze(1)\n",
    "\n"
   ]
  },
  {
   "cell_type": "code",
   "execution_count": 72,
   "metadata": {
    "execution": {
     "iopub.execute_input": "2025-05-17T08:35:11.925765Z",
     "iopub.status.busy": "2025-05-17T08:35:11.925185Z",
     "iopub.status.idle": "2025-05-17T08:35:11.935316Z",
     "shell.execute_reply": "2025-05-17T08:35:11.934483Z",
     "shell.execute_reply.started": "2025-05-17T08:35:11.925743Z"
    },
    "executionInfo": {
     "elapsed": 4,
     "status": "ok",
     "timestamp": 1747351899020,
     "user": {
      "displayName": "Ahmed Abdel-fattah",
      "userId": "16941817294502685097"
     },
     "user_tz": -180
    },
    "id": "zAphKZo8MMDX",
    "trusted": true
   },
   "outputs": [],
   "source": [
    "class Seq2Seq(nn.Module):\n",
    "    def __init__(self, encoder, decoder, device, pad_idx):\n",
    "        super().__init__()\n",
    "        self.encoder = encoder\n",
    "        self.decoder = decoder\n",
    "        self.device = device\n",
    "        self.pad_idx = pad_idx\n",
    "\n",
    "    def create_mask(self, src):\n",
    "        mask = (src != self.pad_idx)\n",
    "        return mask\n",
    "\n",
    "    def forward(self, src, target, teacher_forcing_ratio=0.5):\n",
    "        batch_size= src.shape[0]\n",
    "        target_len = target.shape[1]\n",
    "        target_vocab_size = self.decoder.output_dim\n",
    "\n",
    "        outputs = torch.zeros(batch_size, target_len, target_vocab_size).to(self.device)\n",
    "        attention_w = torch.zeros(batch_size,target_len, src.shape[1]).to(self.device)\n",
    "\n",
    "        mask = self.create_mask(src)\n",
    "\n",
    "        encoder_outputs, (hidden, cell) = self.encoder(src)\n",
    "\n",
    "        input = target[:,0].unsqueeze(1)\n",
    "\n",
    "        for t in range(1, target_len):\n",
    "            output, hidden, cell, attn = self.decoder(input, hidden, cell, encoder_outputs, mask)\n",
    "\n",
    "            outputs[:, t, :] = output\n",
    "            attention_w[:, t, :] = attn\n",
    "\n",
    "            teacher_force = random.random() < teacher_forcing_ratio\n",
    "\n",
    "            top1 = output.argmax(1)\n",
    "            input = target[:, t].unsqueeze(1) if teacher_force else top1.unsqueeze(1)\n",
    "\n",
    "        return outputs, attention_w\n",
    "\n",
    "    def generate(self, src, max_len=50, sos_idx=1, eos_idx=2):\n",
    "        batch_size = src.shape[0]\n",
    "        mask = self.create_mask(src)\n",
    "        encoder_outputs, (hidden, cell) = self.encoder(src)\n",
    "\n",
    "        generated = torch.full((batch_size, 1), sos_idx, dtype=torch.long).to(self.device)\n",
    "        input = generated[:, 0].unsqueeze(1)\n",
    "\n",
    "        attention_history = torch.zeros(batch_size, max_len, src.shape[1]).to(self.device)\n",
    "\n",
    "        completed = torch.zeros(batch_size, dtype=torch.bool).to(self.device)\n",
    "\n",
    "        for t in range(1, max_len):\n",
    "            output, hidden, cell, attention = self.decoder(input, hidden, cell, encoder_outputs, mask)\n",
    "\n",
    "            top1 = output.argmax(1)\n",
    "            attention_history[:, t, :] = attention\n",
    "\n",
    "            input = top1.unsqueeze(1)\n",
    "            generated = torch.cat((generated, input), dim=1)\n",
    "\n",
    "            completed = completed | (input == eos_idx)\n",
    "            if completed.all():\n",
    "                break\n",
    "\n",
    "        return generated, attention_history\n",
    "\n",
    "\n",
    "\n"
   ]
  },
  {
   "cell_type": "markdown",
   "metadata": {},
   "source": [
    "## Building train and validation loops"
   ]
  },
  {
   "cell_type": "code",
   "execution_count": 73,
   "metadata": {
    "execution": {
     "iopub.execute_input": "2025-05-17T08:35:15.859769Z",
     "iopub.status.busy": "2025-05-17T08:35:15.859292Z",
     "iopub.status.idle": "2025-05-17T08:35:15.865459Z",
     "shell.execute_reply": "2025-05-17T08:35:15.864705Z",
     "shell.execute_reply.started": "2025-05-17T08:35:15.859746Z"
    },
    "executionInfo": {
     "elapsed": 3,
     "status": "ok",
     "timestamp": 1747351901416,
     "user": {
      "displayName": "Ahmed Abdel-fattah",
      "userId": "16941817294502685097"
     },
     "user_tz": -180
    },
    "id": "TxmVD11FfPYB",
    "trusted": true
   },
   "outputs": [],
   "source": [
    "def train_epoch(model, dataloader, optimizer, criterion, clip, device):\n",
    "    model.train()\n",
    "    epoch_loss = 0\n",
    "\n",
    "    progress_bar = tqdm(dataloader, desc=\"Training\", unit=\"batch\")\n",
    "\n",
    "    for batch in progress_bar:\n",
    "        src = batch['input_ids'].to(device)\n",
    "        target = batch['target_ids'].to(device)\n",
    "\n",
    "        optimizer.zero_grad()\n",
    "\n",
    "        output, _ = model(src, target)\n",
    "\n",
    "        output_dim = output.shape[-1]\n",
    "        output = output[:, 1:].contiguous().view(-1, output_dim)\n",
    "        target = target[:, 1:].contiguous().view(-1)\n",
    "\n",
    "        loss = criterion(output, target)\n",
    "        loss.backward()\n",
    "\n",
    "        torch.nn.utils.clip_grad_norm_(model.parameters(), clip)\n",
    "\n",
    "        optimizer.step()\n",
    "\n",
    "        epoch_loss += loss.item()\n",
    "\n",
    "        progress_bar.set_postfix(loss=loss.item())\n",
    "\n",
    "    return epoch_loss / len(dataloader)"
   ]
  },
  {
   "cell_type": "code",
   "execution_count": 39,
   "metadata": {
    "execution": {
     "iopub.execute_input": "2025-05-17T07:57:44.857366Z",
     "iopub.status.busy": "2025-05-17T07:57:44.857107Z",
     "iopub.status.idle": "2025-05-17T07:57:44.862440Z",
     "shell.execute_reply": "2025-05-17T07:57:44.861892Z",
     "shell.execute_reply.started": "2025-05-17T07:57:44.857346Z"
    },
    "executionInfo": {
     "elapsed": 3,
     "status": "ok",
     "timestamp": 1747351903761,
     "user": {
      "displayName": "Ahmed Abdel-fattah",
      "userId": "16941817294502685097"
     },
     "user_tz": -180
    },
    "id": "kjbaI1HdfSZs",
    "trusted": true
   },
   "outputs": [],
   "source": [
    "def evaluate(model, dataloader, criterion, device):\n",
    "    model.eval()\n",
    "    epoch_loss = 0\n",
    "\n",
    "    with torch.no_grad():\n",
    "        for batch in tqdm(dataloader, desc=\"Evaluating\"):\n",
    "            src = batch['input_ids'].to(device)\n",
    "            target = batch['target_ids'].to(device)\n",
    "\n",
    "            output, _ = model(src, target, teacher_forcing_ratio=0)\n",
    "\n",
    "            output_dim = output.shape[-1]\n",
    "            output = output[:, 1:].contiguous().view(-1, output_dim)\n",
    "            target = target[:, 1:].contiguous().view(-1)\n",
    "\n",
    "            loss = criterion(output, target)\n",
    "\n",
    "            epoch_loss += loss.item()\n",
    "    return epoch_loss / len(dataloader)\n",
    "\n"
   ]
  },
  {
   "cell_type": "code",
   "execution_count": 40,
   "metadata": {
    "execution": {
     "iopub.execute_input": "2025-05-17T07:57:45.273091Z",
     "iopub.status.busy": "2025-05-17T07:57:45.272866Z",
     "iopub.status.idle": "2025-05-17T07:57:45.281369Z",
     "shell.execute_reply": "2025-05-17T07:57:45.280666Z",
     "shell.execute_reply.started": "2025-05-17T07:57:45.273076Z"
    },
    "executionInfo": {
     "elapsed": 5,
     "status": "ok",
     "timestamp": 1747351905564,
     "user": {
      "displayName": "Ahmed Abdel-fattah",
      "userId": "16941817294502685097"
     },
     "user_tz": -180
    },
    "id": "Y78Ekk9zXgkz",
    "trusted": true
   },
   "outputs": [],
   "source": [
    "def epoch_time(start_time, end_time):\n",
    "    elapsed_time = end_time - start_time\n",
    "    elapsed_mins = int(elapsed_time / 60)\n",
    "    elapsed_secs = int(elapsed_time - (elapsed_mins * 60))\n",
    "    return elapsed_mins, elapsed_secs\n",
    "\n",
    "def train_model(model, train_loader, val_loader, optimizer, criterion, n_epochs,\n",
    "                clip, device, checkpoint_dir='checkpoints', patience=5):\n",
    "\n",
    "    os.makedirs(checkpoint_dir, exist_ok=True)\n",
    "\n",
    "    train_losses = []\n",
    "    val_losses = []\n",
    "\n",
    "    best_val_loss = float('inf')\n",
    "    epochs_without_improvement = 0\n",
    "    scheduler = ReduceLROnPlateau(optimizer, 'min', patience=3, factor=0.5)\n",
    "\n",
    "    for epoch in range(n_epochs):\n",
    "        start_time = time.time()\n",
    "\n",
    "        train_loss = train_epoch(model, train_loader, optimizer, criterion, clip, device)\n",
    "        val_loss = evaluate(model, val_loader, criterion, device)\n",
    "\n",
    "        scheduler.step(val_loss)\n",
    "\n",
    "        train_losses.append(train_loss)\n",
    "        val_losses.append(val_loss)\n",
    "\n",
    "        end_time = time.time()\n",
    "        epoch_mins, epoch_secs = epoch_time(start_time, end_time)\n",
    "\n",
    "        # Print progress\n",
    "        print(f'Epoch: {epoch+1:02} | Time: {epoch_mins}m {epoch_secs}s')\n",
    "        print(f'\\tTrain Loss: {train_loss:.3f} | Val. Loss: {val_loss:.3f}')\n",
    "\n",
    "        # Save checkpoint if validation loss improves\n",
    "        if val_loss < best_val_loss:\n",
    "            best_val_loss = val_loss\n",
    "            epochs_without_improvement = 0\n",
    "\n",
    "            # Save with dictionary structure\n",
    "            torch.save({\n",
    "                'epoch': epoch,\n",
    "                'model_state_dict': model.state_dict(),\n",
    "                'optimizer_state_dict': optimizer.state_dict(),\n",
    "                'train_loss': train_loss,\n",
    "                'val_loss': val_loss,\n",
    "            }, os.path.join(checkpoint_dir, 'best_model.pt'))\n",
    "        else:\n",
    "            epochs_without_improvement += 1\n",
    "\n",
    "        # Early stopping\n",
    "        if epochs_without_improvement >= patience:\n",
    "            print(f'Early stopping after {patience} epochs without improvement')\n",
    "            break\n",
    "\n",
    "    plot_losses(train_losses, val_losses, checkpoint_dir)\n",
    "\n",
    "    # Load the best model\n",
    "    checkpoint = torch.load(os.path.join(checkpoint_dir, 'best_model.pt'))\n",
    "    model.load_state_dict(checkpoint['model_state_dict'])\n",
    "\n",
    "    return model, train_losses, val_losses\n",
    "\n"
   ]
  },
  {
   "cell_type": "code",
   "execution_count": 41,
   "metadata": {
    "execution": {
     "iopub.execute_input": "2025-05-17T07:57:47.222917Z",
     "iopub.status.busy": "2025-05-17T07:57:47.222650Z",
     "iopub.status.idle": "2025-05-17T07:57:47.227642Z",
     "shell.execute_reply": "2025-05-17T07:57:47.226915Z",
     "shell.execute_reply.started": "2025-05-17T07:57:47.222897Z"
    },
    "executionInfo": {
     "elapsed": 5,
     "status": "ok",
     "timestamp": 1747352715196,
     "user": {
      "displayName": "Ahmed Abdel-fattah",
      "userId": "16941817294502685097"
     },
     "user_tz": -180
    },
    "id": "bTp5cPYeg7Ns",
    "trusted": true
   },
   "outputs": [],
   "source": [
    "def plot_losses(train_losses, val_losses, checkpoint_dir):\n",
    "    plt.figure(figsize=(10, 5))\n",
    "    plt.plot(train_losses, label='Train Loss')\n",
    "    plt.plot(val_losses, label='Validation Loss')\n",
    "    plt.xlabel('Epoch')\n",
    "    plt.ylabel('Loss')\n",
    "    plt.title('Training and Validation losses')\n",
    "    plt.legend()\n",
    "    plt.grid(True)\n",
    "    plt.savefig(os.path.join(checkpoint_dir, 'losses.png'))\n",
    "    plt.show()"
   ]
  },
  {
   "cell_type": "code",
   "execution_count": 42,
   "metadata": {
    "execution": {
     "iopub.execute_input": "2025-05-17T07:57:48.230222Z",
     "iopub.status.busy": "2025-05-17T07:57:48.229591Z",
     "iopub.status.idle": "2025-05-17T07:57:48.235262Z",
     "shell.execute_reply": "2025-05-17T07:57:48.234508Z",
     "shell.execute_reply.started": "2025-05-17T07:57:48.230202Z"
    },
    "executionInfo": {
     "elapsed": 3,
     "status": "ok",
     "timestamp": 1747352715641,
     "user": {
      "displayName": "Ahmed Abdel-fattah",
      "userId": "16941817294502685097"
     },
     "user_tz": -180
    },
    "id": "5t422AnfhSmN",
    "trusted": true
   },
   "outputs": [],
   "source": [
    "def generate_lyrics(model, input_text, vocab, idx_to_word, device, max_len=50):\n",
    "    model.eval()\n",
    "    input_text = preprocess_text(input_text)\n",
    "    tokens = word_tokenize(input_text.strip())\n",
    "    token_ids = [vocab.get(token, vocab['<UNK>']) for token in tokens]\n",
    "    src = torch.tensor([token_ids]).to(device)\n",
    "\n",
    "    with torch.no_grad():\n",
    "        generated_ids, attention = model.generate(src, max_len=max_len)\n",
    "\n",
    "    generated_tokens = []\n",
    "    eos_idx = vocab.get('<EOS>', 2)\n",
    "\n",
    "    for idx in generated_ids[0, 1:]:\n",
    "        if idx.item() == eos_idx:\n",
    "            break\n",
    "\n",
    "        generated_tokens.append(idx_to_word.get(idx.item(), '<UNK>'))\n",
    "    return ' '.join(generated_tokens)"
   ]
  },
  {
   "cell_type": "code",
   "execution_count": 43,
   "metadata": {
    "execution": {
     "iopub.execute_input": "2025-05-17T07:57:49.833280Z",
     "iopub.status.busy": "2025-05-17T07:57:49.832662Z",
     "iopub.status.idle": "2025-05-17T07:57:49.839891Z",
     "shell.execute_reply": "2025-05-17T07:57:49.839149Z",
     "shell.execute_reply.started": "2025-05-17T07:57:49.833259Z"
    },
    "id": "wLJeoqgSrd32",
    "trusted": true
   },
   "outputs": [],
   "source": [
    "device = 'cuda' if torch.cuda.is_available() else 'cpu'\n",
    "\n",
    "def initialize_model(input_dim, output_dim, emb_dim, hidden_dim, n_layers=1, dropout = 0, device=device):\n",
    "    encoder = Encoder(input_dim, emb_dim, hidden_dim, n_layers, dropout)\n",
    "\n",
    "    decoder = Decoder(output_dim, emb_dim, hidden_dim, hidden_dim, n_layers, dropout)\n",
    "\n",
    "    model = Seq2Seq(encoder, decoder, device, pad_idx=0)\n",
    "\n",
    "    def init_weights(m):\n",
    "        if isinstance(m, nn.LSTM):\n",
    "            for name, param in m.named_parameters():\n",
    "                if 'weight_ih' in name:\n",
    "                    nn.init.xavier_uniform_(param.data)\n",
    "                elif 'weight_hh' in name:\n",
    "                    nn.init.orthogonal_(param.data)\n",
    "                elif 'bias' in name:\n",
    "                    param.data.fill_(0)\n",
    "                    # Set forget gate bias to 1\n",
    "                    n = param.size(0)\n",
    "                    start, end = n // 4, n // 2\n",
    "                    param.data[start:end].fill_(1.)\n",
    "\n",
    "        elif isinstance(m, nn.Linear):\n",
    "            nn.init.xavier_uniform_(m.weight.data)\n",
    "            if m.bias is not None:\n",
    "                nn.init.constant_(m.bias.data, 0)\n",
    "\n",
    "        elif isinstance(m, nn.Embedding):\n",
    "            nn.init.normal_(m.weight.data, mean=0, std=0.01)\n",
    "\n",
    "    model.apply(init_weights)\n",
    "\n",
    "    return model.to(device)\n",
    "\n",
    "\n"
   ]
  },
  {
   "cell_type": "code",
   "execution_count": 125,
   "metadata": {
    "colab": {
     "base_uri": "https://localhost:8080/"
    },
    "execution": {
     "iopub.execute_input": "2025-05-17T11:22:44.964887Z",
     "iopub.status.busy": "2025-05-17T11:22:44.964553Z",
     "iopub.status.idle": "2025-05-17T11:22:48.326024Z",
     "shell.execute_reply": "2025-05-17T11:22:48.325403Z",
     "shell.execute_reply.started": "2025-05-17T11:22:44.964865Z"
    },
    "executionInfo": {
     "elapsed": 12201,
     "status": "ok",
     "timestamp": 1747353942422,
     "user": {
      "displayName": "Ahmed Abdel-fattah",
      "userId": "16941817294502685097"
     },
     "user_tz": -180
    },
    "id": "ORWx2_tlwtm-",
    "outputId": "352543ae-b66b-4fed-9d31-b3f4acbf5552",
    "trusted": true
   },
   "outputs": [
    {
     "name": "stdout",
     "output_type": "stream",
     "text": [
      "Using device: cuda\n",
      "Loading vocabulary...\n",
      "Vocabulary size: 11358\n",
      "Creating dataloaders...\n"
     ]
    }
   ],
   "source": [
    "file_path=file_path\n",
    "embedding_dim=128\n",
    "hidden_dim=128\n",
    "n_layers=4\n",
    "dropout=0.3\n",
    "batch_size=64\n",
    "num_workers=2\n",
    "learning_rate=0.0001\n",
    "n_epochs=3\n",
    "clip=1.0\n",
    "patience=5\n",
    "train_size=1000\n",
    "val_size=500\n",
    "max_input_len=32\n",
    "max_output_len=64\n",
    "checkpoint_dir='checkpoints'\n",
    "device='cuda' if torch.cuda.is_available() else 'cpu'\n",
    "\n",
    "print(f\"Using device: {device}\")\n",
    "\n",
    "# Load vocabulary\n",
    "print(\"Loading vocabulary...\")\n",
    "# vocab = torch.load('vocab.pth')\n",
    "vocab = vocab50k\n",
    "# Create index to word mapping\n",
    "idx_to_word = {idx: word for word, idx in vocab.items()}\n",
    "\n",
    "# Get vocabulary size\n",
    "vocab_size = len(vocab)\n",
    "print(f\"Vocabulary size: {vocab_size}\")\n",
    "\n",
    "# Create dataloaders\n",
    "print(\"Creating dataloaders...\")\n",
    "\n",
    "train_loader = get_dataloader(\n",
    "    file_path=file_path,\n",
    "    vocab=vocab,\n",
    "    batch_size=batch_size,\n",
    "    num_workers=num_workers,\n",
    "    max_input_len=max_input_len,\n",
    "    max_output_len=max_output_len,\n",
    "    start_line=0,\n",
    "    end_line=train_size\n",
    ")\n",
    "\n",
    "val_loader = get_dataloader(\n",
    "    file_path=file_path,\n",
    "    vocab=vocab,\n",
    "    batch_size=batch_size,\n",
    "    num_workers=num_workers,\n",
    "    max_input_len=max_input_len,\n",
    "    max_output_len=max_output_len,\n",
    "    start_line=0,\n",
    "    end_line=val_size\n",
    ")"
   ]
  },
  {
   "cell_type": "code",
   "execution_count": 126,
   "metadata": {
    "colab": {
     "base_uri": "https://localhost:8080/"
    },
    "execution": {
     "iopub.execute_input": "2025-05-17T11:22:48.327672Z",
     "iopub.status.busy": "2025-05-17T11:22:48.327090Z",
     "iopub.status.idle": "2025-05-17T11:22:48.514405Z",
     "shell.execute_reply": "2025-05-17T11:22:48.513732Z",
     "shell.execute_reply.started": "2025-05-17T11:22:48.327646Z"
    },
    "executionInfo": {
     "elapsed": 1087,
     "status": "ok",
     "timestamp": 1747354118219,
     "user": {
      "displayName": "Ahmed Abdel-fattah",
      "userId": "16941817294502685097"
     },
     "user_tz": -180
    },
    "id": "omFEtPv02EtJ",
    "outputId": "2618d9f5-f64e-42da-9568-18c4b5a1abe0",
    "trusted": true
   },
   "outputs": [
    {
     "name": "stdout",
     "output_type": "stream",
     "text": [
      "Initializing model...\n",
      "Model has 10,926,046 trainable parameters\n"
     ]
    }
   ],
   "source": [
    "# Initialize model\n",
    "print(\"Initializing model...\")\n",
    "\n",
    "model = initialize_model(\n",
    "    input_dim=vocab_size,\n",
    "    output_dim=vocab_size,\n",
    "    emb_dim=embedding_dim,\n",
    "    hidden_dim=hidden_dim,\n",
    "    n_layers=n_layers,\n",
    "    dropout=dropout,\n",
    "    device=device\n",
    ")\n",
    "\n",
    "# Print model summary\n",
    "print(f\"Model has {sum(p.numel() for p in model.parameters() if p.requires_grad):,} trainable parameters\")\n",
    "\n",
    "# Initialize optimizer and criterion\n",
    "optimizer = torch.optim.Adam(model.parameters(), lr=learning_rate)\n",
    "# Ignore padding index in loss calculation\n",
    "criterion = nn.CrossEntropyLoss(ignore_index=vocab['<PAD>'])\n",
    "\n"
   ]
  },
  {
   "cell_type": "markdown",
   "metadata": {},
   "source": [
    "Sanity check to make sure the model is working fine"
   ]
  },
  {
   "cell_type": "code",
   "execution_count": 127,
   "metadata": {
    "execution": {
     "iopub.execute_input": "2025-05-17T11:22:55.525007Z",
     "iopub.status.busy": "2025-05-17T11:22:55.524448Z",
     "iopub.status.idle": "2025-05-17T11:22:55.734766Z",
     "shell.execute_reply": "2025-05-17T11:22:55.734173Z",
     "shell.execute_reply.started": "2025-05-17T11:22:55.524984Z"
    },
    "trusted": true
   },
   "outputs": [
    {
     "name": "stdout",
     "output_type": "stream",
     "text": [
      "\n",
      "Generating sample lyrics...\n",
      "\n",
      "Input: I could make you happy\n",
      "Generated: charity ribs fbi funk interminable hymn accept spanish actress snowed stretching nowadays torn coca dope brings legacy darkest cinderellas author gentle motto jail baseball throws welles desperately spree enticing widest crack trumpets hawaii holdin hummingbird lightning sort muvete holdin hummingbird lightning holdin hummingbird lightning holdin hummingbird lightning holdin hummingbird\n",
      "\n",
      "Input: The sun sets over the horizon\n",
      "Generated: laces desserts skips leaning pleasures alongside persona whatwhat book tube portion um means creep richer wonton lawns dedication kicking lookie wrapping wawawawatch lovers reverie sleeps forever pumpin suck shudder keenna woulda meth shudder keenna woulda bella hang heyyeah notch motion fountain scarface moving ringtone ringtone ringtone ringtone ringtone ringtone\n",
      "\n",
      "Input: Love is like a river flowing\n",
      "Generated: charity ribs neighbourhood tricks streak expose riding 21st over whyyiyiyippieyiyayyippieyiyoyippieyiyo gches shrink pussycat noo twothousand issues shlong expanding sounds verge top tossin kelly bled quake amused thrown bled cast else total bled cast 14 bled triumph 14 bled triumph 14 bled triumph 14 bled ibiza drank jaw jaw weekends\n",
      "\n",
      "Training complete!\n"
     ]
    }
   ],
   "source": [
    "idx_to_word = {idx: word for word, idx in vocab50k.items()}\n",
    "\n",
    "print(\"\\nGenerating sample lyrics...\")\n",
    "\n",
    "sample_inputs = [\n",
    "    \"I could make you happy\",\n",
    "    \"The sun sets over the horizon\",\n",
    "    \"Love is like a river flowing\"\n",
    "]\n",
    "\n",
    "for input_text in sample_inputs:\n",
    "    print(f\"\\nInput: {input_text}\")\n",
    "    generated = generate_lyrics(model, input_text, vocab50k, idx_to_word, device)\n",
    "    print(f\"Generated: {generated}\")\n",
    "\n",
    "print(\"\\nTraining complete!\")"
   ]
  },
  {
   "cell_type": "code",
   "execution_count": 128,
   "metadata": {
    "colab": {
     "base_uri": "https://localhost:8080/"
    },
    "execution": {
     "iopub.execute_input": "2025-05-17T11:23:04.071745Z",
     "iopub.status.busy": "2025-05-17T11:23:04.071073Z",
     "iopub.status.idle": "2025-05-17T11:54:10.735640Z",
     "shell.execute_reply": "2025-05-17T11:54:10.734960Z",
     "shell.execute_reply.started": "2025-05-17T11:23:04.071723Z"
    },
    "id": "J1zv4JvK3UbT",
    "outputId": "0a6e9d16-fca3-4d3a-9fdf-b925f37c48bb",
    "trusted": true
   },
   "outputs": [
    {
     "name": "stdout",
     "output_type": "stream",
     "text": [
      "Training model...\n"
     ]
    },
    {
     "name": "stderr",
     "output_type": "stream",
     "text": [
      "Training: 100%|██████████| 849/849 [05:05<00:00,  2.78batch/s, loss=4.61]\n",
      "Evaluating: 100%|██████████| 470/470 [01:07<00:00,  6.93it/s]\n"
     ]
    },
    {
     "name": "stdout",
     "output_type": "stream",
     "text": [
      "Epoch: 01 | Time: 6m 12s\n",
      "\tTrain Loss: 5.953 | Val. Loss: 5.681\n"
     ]
    },
    {
     "name": "stderr",
     "output_type": "stream",
     "text": [
      "Training: 100%|██████████| 849/849 [05:04<00:00,  2.78batch/s, loss=5.77]\n",
      "Evaluating: 100%|██████████| 470/470 [01:07<00:00,  6.99it/s]\n"
     ]
    },
    {
     "name": "stdout",
     "output_type": "stream",
     "text": [
      "Epoch: 02 | Time: 6m 12s\n",
      "\tTrain Loss: 5.599 | Val. Loss: 5.630\n"
     ]
    },
    {
     "name": "stderr",
     "output_type": "stream",
     "text": [
      "Training: 100%|██████████| 849/849 [05:04<00:00,  2.78batch/s, loss=6.03]\n",
      "Evaluating: 100%|██████████| 470/470 [01:07<00:00,  6.99it/s]\n"
     ]
    },
    {
     "name": "stdout",
     "output_type": "stream",
     "text": [
      "Epoch: 03 | Time: 6m 12s\n",
      "\tTrain Loss: 5.499 | Val. Loss: 5.579\n"
     ]
    },
    {
     "name": "stderr",
     "output_type": "stream",
     "text": [
      "Training: 100%|██████████| 849/849 [05:05<00:00,  2.78batch/s, loss=5.52]\n",
      "Evaluating: 100%|██████████| 470/470 [01:07<00:00,  6.99it/s]\n"
     ]
    },
    {
     "name": "stdout",
     "output_type": "stream",
     "text": [
      "Epoch: 04 | Time: 6m 12s\n",
      "\tTrain Loss: 5.425 | Val. Loss: 5.545\n"
     ]
    },
    {
     "name": "stderr",
     "output_type": "stream",
     "text": [
      "Training: 100%|██████████| 849/849 [05:04<00:00,  2.79batch/s, loss=5.57]\n",
      "Evaluating: 100%|██████████| 470/470 [01:10<00:00,  6.69it/s]\n"
     ]
    },
    {
     "name": "stdout",
     "output_type": "stream",
     "text": [
      "Epoch: 05 | Time: 6m 15s\n",
      "\tTrain Loss: 5.362 | Val. Loss: 5.517\n"
     ]
    },
    {
     "data": {
      "image/png": "[encoded data removed]",
      "text/plain": [
       "<Figure size 1000x500 with 1 Axes>"
      ]
     },
     "metadata": {},
     "output_type": "display_data"
    }
   ],
   "source": [
    "# Train model\n",
    "print(\"Training model...\")\n",
    "model, train_losses, val_losses = train_model(\n",
    "    model=model,\n",
    "    train_loader=train_loader,\n",
    "    val_loader=val_loader,\n",
    "    optimizer=optimizer,\n",
    "    criterion=criterion,\n",
    "    n_epochs=5,\n",
    "    clip=clip,\n",
    "    device=device,\n",
    "    checkpoint_dir=checkpoint_dir,\n",
    "    patience=patience\n",
    ")\n"
   ]
  },
  {
   "cell_type": "code",
   "execution_count": 132,
   "metadata": {
    "execution": {
     "iopub.execute_input": "2025-05-17T12:35:59.697772Z",
     "iopub.status.busy": "2025-05-17T12:35:59.697287Z",
     "iopub.status.idle": "2025-05-17T13:09:06.193779Z",
     "shell.execute_reply": "2025-05-17T13:09:06.193058Z",
     "shell.execute_reply.started": "2025-05-17T12:35:59.697748Z"
    },
    "trusted": true
   },
   "outputs": [
    {
     "name": "stdout",
     "output_type": "stream",
     "text": [
      "Training model...\n"
     ]
    },
    {
     "name": "stderr",
     "output_type": "stream",
     "text": [
      "Training: 100%|██████████| 849/849 [05:05<00:00,  2.78batch/s, loss=4.66]\n",
      "Evaluating: 100%|██████████| 470/470 [01:21<00:00,  5.80it/s]\n"
     ]
    },
    {
     "name": "stdout",
     "output_type": "stream",
     "text": [
      "Epoch: 01 | Time: 6m 26s\n",
      "\tTrain Loss: 5.131 | Val. Loss: 5.388\n"
     ]
    },
    {
     "name": "stderr",
     "output_type": "stream",
     "text": [
      "Training: 100%|██████████| 849/849 [05:05<00:00,  2.78batch/s, loss=5.7] \n",
      "Evaluating: 100%|██████████| 470/470 [01:21<00:00,  5.75it/s]\n"
     ]
    },
    {
     "name": "stdout",
     "output_type": "stream",
     "text": [
      "Epoch: 02 | Time: 6m 27s\n",
      "\tTrain Loss: 5.097 | Val. Loss: 5.367\n"
     ]
    },
    {
     "name": "stderr",
     "output_type": "stream",
     "text": [
      "Training: 100%|██████████| 849/849 [05:05<00:00,  2.78batch/s, loss=4.71]\n",
      "Evaluating: 100%|██████████| 470/470 [01:21<00:00,  5.77it/s]\n"
     ]
    },
    {
     "name": "stdout",
     "output_type": "stream",
     "text": [
      "Epoch: 03 | Time: 6m 26s\n",
      "\tTrain Loss: 5.062 | Val. Loss: 5.341\n"
     ]
    },
    {
     "name": "stderr",
     "output_type": "stream",
     "text": [
      "Training: 100%|██████████| 849/849 [05:05<00:00,  2.78batch/s, loss=5.11]\n",
      "Evaluating: 100%|██████████| 470/470 [01:20<00:00,  5.83it/s]\n"
     ]
    },
    {
     "name": "stdout",
     "output_type": "stream",
     "text": [
      "Epoch: 04 | Time: 6m 26s\n",
      "\tTrain Loss: 5.036 | Val. Loss: 5.321\n"
     ]
    },
    {
     "name": "stderr",
     "output_type": "stream",
     "text": [
      "Training: 100%|██████████| 849/849 [05:32<00:00,  2.55batch/s, loss=4.58]\n",
      "Evaluating: 100%|██████████| 470/470 [01:45<00:00,  4.47it/s]\n"
     ]
    },
    {
     "name": "stdout",
     "output_type": "stream",
     "text": [
      "Epoch: 05 | Time: 7m 17s\n",
      "\tTrain Loss: 5.000 | Val. Loss: 5.312\n"
     ]
    },
    {
     "data": {
      "image/png": "[encoded data removed]",
      "text/plain": [
       "<Figure size 1000x500 with 1 Axes>"
      ]
     },
     "metadata": {},
     "output_type": "display_data"
    }
   ],
   "source": [
    "# Train model\n",
    "print(\"Training model...\")\n",
    "model, train_losses, val_losses = train_model(\n",
    "    model=model,\n",
    "    train_loader=train_loader,\n",
    "    val_loader=val_loader,\n",
    "    optimizer=optimizer,\n",
    "    criterion=criterion,\n",
    "    n_epochs=5,\n",
    "    clip=clip,\n",
    "    device=device,\n",
    "    checkpoint_dir=checkpoint_dir,\n",
    "    patience=patience\n",
    ")\n"
   ]
  },
  {
   "cell_type": "code",
   "execution_count": 134,
   "metadata": {
    "execution": {
     "iopub.execute_input": "2025-05-17T13:16:19.621409Z",
     "iopub.status.busy": "2025-05-17T13:16:19.621141Z",
     "iopub.status.idle": "2025-05-17T13:56:20.850980Z",
     "shell.execute_reply": "2025-05-17T13:56:20.850062Z",
     "shell.execute_reply.started": "2025-05-17T13:16:19.621391Z"
    },
    "trusted": true
   },
   "outputs": [
    {
     "name": "stdout",
     "output_type": "stream",
     "text": [
      "Training model...\n"
     ]
    },
    {
     "name": "stderr",
     "output_type": "stream",
     "text": [
      "Training: 100%|██████████| 849/849 [06:14<00:00,  2.27batch/s, loss=6.39]\n",
      "Evaluating: 100%|██████████| 470/470 [01:45<00:00,  4.47it/s]\n"
     ]
    },
    {
     "name": "stdout",
     "output_type": "stream",
     "text": [
      "Epoch: 01 | Time: 7m 59s\n",
      "\tTrain Loss: 4.976 | Val. Loss: 5.285\n"
     ]
    },
    {
     "name": "stderr",
     "output_type": "stream",
     "text": [
      "Training: 100%|██████████| 849/849 [06:14<00:00,  2.27batch/s, loss=5.63]\n",
      "Evaluating: 100%|██████████| 470/470 [01:45<00:00,  4.46it/s]\n"
     ]
    },
    {
     "name": "stdout",
     "output_type": "stream",
     "text": [
      "Epoch: 02 | Time: 7m 59s\n",
      "\tTrain Loss: 4.944 | Val. Loss: 5.257\n"
     ]
    },
    {
     "name": "stderr",
     "output_type": "stream",
     "text": [
      "Training: 100%|██████████| 849/849 [06:14<00:00,  2.27batch/s, loss=5.39]\n",
      "Evaluating: 100%|██████████| 470/470 [01:45<00:00,  4.46it/s]\n"
     ]
    },
    {
     "name": "stdout",
     "output_type": "stream",
     "text": [
      "Epoch: 03 | Time: 7m 59s\n",
      "\tTrain Loss: 4.910 | Val. Loss: 5.230\n"
     ]
    },
    {
     "name": "stderr",
     "output_type": "stream",
     "text": [
      "Training: 100%|██████████| 849/849 [06:14<00:00,  2.27batch/s, loss=4.52]\n",
      "Evaluating: 100%|██████████| 470/470 [01:45<00:00,  4.45it/s]\n"
     ]
    },
    {
     "name": "stdout",
     "output_type": "stream",
     "text": [
      "Epoch: 04 | Time: 8m 0s\n",
      "\tTrain Loss: 4.885 | Val. Loss: 5.220\n"
     ]
    },
    {
     "name": "stderr",
     "output_type": "stream",
     "text": [
      "Training: 100%|██████████| 849/849 [06:14<00:00,  2.27batch/s, loss=6.64]\n",
      "Evaluating: 100%|██████████| 470/470 [01:45<00:00,  4.47it/s]\n"
     ]
    },
    {
     "name": "stdout",
     "output_type": "stream",
     "text": [
      "Epoch: 05 | Time: 7m 59s\n",
      "\tTrain Loss: 4.865 | Val. Loss: 5.188\n"
     ]
    },
    {
     "data": {
      "image/png": "[encoded data removed]",
      "text/plain": [
       "<Figure size 1000x500 with 1 Axes>"
      ]
     },
     "metadata": {},
     "output_type": "display_data"
    }
   ],
   "source": [
    "# Train model\n",
    "print(\"Training model...\")\n",
    "model, train_losses, val_losses = train_model(\n",
    "    model=model,\n",
    "    train_loader=train_loader,\n",
    "    val_loader=val_loader,\n",
    "    optimizer=optimizer,\n",
    "    criterion=criterion,\n",
    "    n_epochs=5,\n",
    "    clip=clip,\n",
    "    device=device,\n",
    "    checkpoint_dir=checkpoint_dir,\n",
    "    patience=patience\n",
    ")\n"
   ]
  },
  {
   "cell_type": "code",
   "execution_count": 133,
   "metadata": {
    "colab": {
     "base_uri": "https://localhost:8080/",
     "height": 141
    },
    "execution": {
     "iopub.execute_input": "2025-05-17T13:16:03.047739Z",
     "iopub.status.busy": "2025-05-17T13:16:03.047377Z",
     "iopub.status.idle": "2025-05-17T13:16:03.254511Z",
     "shell.execute_reply": "2025-05-17T13:16:03.253975Z",
     "shell.execute_reply.started": "2025-05-17T13:16:03.047707Z"
    },
    "executionInfo": {
     "elapsed": 27,
     "status": "error",
     "timestamp": 1747352706731,
     "user": {
      "displayName": "Ahmed Abdel-fattah",
      "userId": "16941817294502685097"
     },
     "user_tz": -180
    },
    "id": "upXDKlPu4muL",
    "outputId": "85958520-6196-4210-f4bc-8f5d748d04b2",
    "trusted": true
   },
   "outputs": [
    {
     "name": "stdout",
     "output_type": "stream",
     "text": [
      "\n",
      "Generating sample lyrics...\n",
      "\n",
      "Input: cuz we get it in you know the girls bring the boys out' \n",
      "Generated: <UNK> the the the the <UNK>\n",
      "\n",
      "Input: The sun sets over the horizon\n",
      "Generated: be a little heart\n",
      "\n",
      "Input: aaaaaa\n",
      "Generated: be a little body\n"
     ]
    }
   ],
   "source": [
    "idx_to_word = {idx: word for word, idx in vocab50k.items()}\n",
    "\n",
    "print(\"\\nGenerating sample lyrics...\")\n",
    "\n",
    "sample_inputs = [\n",
    "    \"cuz we get it in you know the girls bring the boys out' \",\n",
    "    \"The sun sets over the horizon\",\n",
    "    \"aaaaaa\"]\n",
    "\n",
    "for input_text in sample_inputs:\n",
    "    print(f\"\\nInput: {input_text}\")\n",
    "    generated = generate_lyrics(model, input_text, vocab50k, idx_to_word, device)\n",
    "    print(f\"Generated: {generated}\")\n"
   ]
  },
  {
   "cell_type": "code",
   "execution_count": null,
   "metadata": {
    "trusted": true
   },
   "outputs": [],
   "source": []
  }
 ],
 "metadata": {
  "accelerator": "GPU",
  "colab": {
   "authorship_tag": "ABX9TyOYm7g3uOZ0p007pnNtZqKz",
   "gpuType": "T4",
   "mount_file_id": "1eNd4T7Dsh9b_Qx8Y0DpZtVTHvOJB8JsK",
   "provenance": []
  },
  "kaggle": {
   "accelerator": "nvidiaTeslaT4",
   "dataSources": [
    {
     "datasetId": 2805070,
     "sourceId": 4840139,
     "sourceType": "datasetVersion"
    }
   ],
   "dockerImageVersionId": 31041,
   "isGpuEnabled": true,
   "isInternetEnabled": true,
   "language": "python",
   "sourceType": "notebook"
  },
  "kernelspec": {
   "display_name": "Python 3",
   "language": "python",
   "name": "python3"
  },
  "language_info": {
   "codemirror_mode": {
    "name": "ipython",
    "version": 3
   },
   "file_extension": ".py",
   "mimetype": "text/x-python",
   "name": "python",
   "nbconvert_exporter": "python",
   "pygments_lexer": "ipython3",
   "version": "3.11.11"
  }
 },
 "nbformat": 4,
 "nbformat_minor": 4
}
